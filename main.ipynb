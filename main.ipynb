{
 "cells": [
  {
   "cell_type": "code",
   "execution_count": 1,
   "metadata": {},
   "outputs": [],
   "source": [
    "#Импортирование библиотек\n",
    "from Timage import Timage\n",
    "import numpy as np\n",
    "import scipy.io as sc\n",
    "from scipy.signal import convolve2d\n",
    "from PIL import Image\n",
    "\n",
    "m = sc.loadmat('resources/sector_one.mat')\n",
    "\n",
    "#Берет n-ое изображение из sector_one.mat\n",
    "def get_timage(n):\n",
    "    global m\n",
    "    return Timage(array=np.array([[m['A'][j][i][n] for j in range(416)] for i in range(442)], dtype=np.float32))"
   ]
  },
  {
   "cell_type": "markdown",
   "metadata": {},
   "source": [
    "Возьмём 60-е изображение из sector_one.mat и укажем палитру вывода, в которой синий отображает 0, а красный отображает 255"
   ]
  },
  {
   "cell_type": "code",
   "execution_count": null,
   "metadata": {},
   "outputs": [],
   "source": [
    "thermogram = get_timage(60)\n",
    "\n",
    "pallete = [[0, 0, 255], [255, 0, 0]]\n",
    "\n",
    "thermogram.show(pallete, contrast_level=0.96)"
   ]
  },
  {
   "cell_type": "markdown",
   "metadata": {},
   "source": [
    "Обработка по фильтру Гаусса"
   ]
  },
  {
   "cell_type": "code",
   "execution_count": 60,
   "metadata": {},
   "outputs": [],
   "source": [
    "gausian_blurred = thermogram.gaussian_blur(blur=0.3, radius=9)\n",
    "\n",
    "gausian_blurred.show(pallete, contrast_level=0.96)"
   ]
  },
  {
   "cell_type": "markdown",
   "metadata": {},
   "source": [
    "Обработка по медианному фильтру"
   ]
  },
  {
   "cell_type": "code",
   "execution_count": 61,
   "metadata": {},
   "outputs": [],
   "source": [
    "median_blurred = thermogram.median_blur(radius=1)\n",
    "\n",
    "median_blurred.show(pallete, contrast_level=0.96)"
   ]
  },
  {
   "cell_type": "markdown",
   "metadata": {},
   "source": [
    "Шум \"соль и перец\" и шум по Гауссу "
   ]
  },
  {
   "cell_type": "code",
   "execution_count": 62,
   "metadata": {},
   "outputs": [],
   "source": [
    "snp_noised = thermogram.salt_and_pepper_noise(intensity=0.01)\n",
    "\n",
    "snp_noised.show(pallete, contrast_level=0.96)"
   ]
  },
  {
   "cell_type": "code",
   "execution_count": 63,
   "metadata": {},
   "outputs": [],
   "source": [
    "gaussian_noised = thermogram.gaussian_noise(mean=0, stddev=0.3)\n",
    "\n",
    "gaussian_noised.show(pallete, contrast_level=0.96)"
   ]
  },
  {
   "cell_type": "markdown",
   "metadata": {},
   "source": [
    "Применение медианного фильтра для устранения шумов"
   ]
  },
  {
   "cell_type": "code",
   "execution_count": 64,
   "metadata": {},
   "outputs": [],
   "source": [
    "snp_noised.median_blur(radius=1).show(pallete, contrast_level=0.96)"
   ]
  },
  {
   "cell_type": "code",
   "execution_count": 65,
   "metadata": {},
   "outputs": [],
   "source": [
    "gaussian_noised.median_blur(radius=1).show(pallete, contrast_level=0.96)"
   ]
  },
  {
   "cell_type": "code",
   "execution_count": 20,
   "metadata": {},
   "outputs": [],
   "source": [
    "get_timage(60).gaussian_noise(stddev=2).gaussian_blur(blur=2,radius=10).show(pallete=[[0, 0, 255], [255, 0, 0]], contrast_level=0.94)"
   ]
  },
  {
   "cell_type": "code",
   "execution_count": 23,
   "metadata": {},
   "outputs": [],
   "source": [
    "get_timage(60).salt_and_pepper_noise(0.01).median_blur().show(pallete=[[0,0,255],[255,0,0]], contrast_level=0.94)"
   ]
  },
  {
   "cell_type": "code",
   "execution_count": 28,
   "metadata": {},
   "outputs": [
    {
     "name": "stderr",
     "output_type": "stream",
     "text": [
      "Convolving...: 100%|██████████| 436/436 [00:06<00:00, 71.36it/s]\n"
     ]
    }
   ],
   "source": [
    "t = get_timage(15)\n",
    "t.show()\n",
    "im = t.defect_map(radius=3, stddev=1.5, contrast_level=0.998, direction=np.array([-3**0.5/2, 1/2], dtype=np.float32))"
   ]
  },
  {
   "cell_type": "code",
   "execution_count": 8,
   "metadata": {},
   "outputs": [],
   "source": [
    "class DefectMap:\n",
    "    def __init__(self, array):\n",
    "        self.array = array\n",
    "    \n",
    "    def direct(self, direction, contrast_level, color):\n",
    "        \n",
    "        directed = 128 + np.sum(self.array * direction, (2))\n",
    "\n",
    "        mean = np.mean(directed)\n",
    "        f = lambda x: (x - mean) / (1 - contrast_level) + mean\n",
    "        contrasted = directed.copy()\n",
    "\n",
    "        m, n = len(directed), len(directed[0])\n",
    "        for i in range(m):\n",
    "            for j in range(n):\n",
    "                contrasted[i][j] = min(255, max(0,   f(float(directed[i][j]))  ))\n",
    "\n",
    "        colored = np.multiply.outer(contrasted.copy(), np.array(color, dtype=np.float32)/255)\n",
    "        return colored"
   ]
  },
  {
   "cell_type": "code",
   "execution_count": 9,
   "metadata": {},
   "outputs": [
    {
     "name": "stderr",
     "output_type": "stream",
     "text": [
      "Convolving...: 100%|██████████| 436/436 [00:05<00:00, 76.71it/s]\n",
      "100%|██████████| 1200/1200 [06:49<00:00,  2.93it/s]\n"
     ]
    }
   ],
   "source": [
    "from math import sin, cos, pi\n",
    "from tqdm import trange\n",
    "t60 = get_timage(60)\n",
    "def_map = DefectMap(array=t60.defect_map(radius=3, stddev=1.5))\n",
    "num_pictures = 1200\n",
    "# 1200 -> 14min, 6min\n",
    "for i in trange(num_pictures):\n",
    "    phi = i * pi / (num_pictures - 1) # [0, pi]\n",
    "    im = Image.fromarray(def_map.direct(np.array([cos(phi), sin(phi)], dtype=np.float32), contrast_level=0.998, color=np.array([255,255,255], dtype=np.float32)).astype('uint8'))\n",
    "    im.save(f'60rotate_meme/{i}.png')"
   ]
  },
  {
   "cell_type": "code",
   "execution_count": null,
   "metadata": {},
   "outputs": [],
   "source": [
    "from tqdm import trange\n",
    "for i in trange(1000):\n",
    "    get_timage(i).defect_map(radius=3, stddev=1.5, contrast_level=0.998, direction=np.array([2**(-0.5), 2**(-0.5)], dtype=np.float32), color=np.array([255,255,255], dtype=np.float32))"
   ]
  },
  {
   "cell_type": "code",
   "execution_count": null,
   "metadata": {},
   "outputs": [
    {
     "name": "stdout",
     "output_type": "stream",
     "text": [
      "MoviePy - Building video 60rotate_result1200.mp4.\n",
      "MoviePy - Writing video 60rotate_result1200.mp4\n",
      "\n"
     ]
    },
    {
     "name": "stderr",
     "output_type": "stream",
     "text": [
      "                                                                           "
     ]
    },
    {
     "name": "stdout",
     "output_type": "stream",
     "text": [
      "MoviePy - Done !\n",
      "MoviePy - video ready 60rotate_result1200.mp4\n"
     ]
    },
    {
     "name": "stderr",
     "output_type": "stream",
     "text": [
      "\r"
     ]
    }
   ],
   "source": [
    "from moviepy import ImageSequenceClip\n",
    "\n",
    "output_video = \"60rotate_result1200.mp4\"\n",
    "fps = 240\n",
    "\n",
    "image_files = [f'60rotate_meme//{i}.png' for i in range(1200)]\n",
    "\n",
    "clip = ImageSequenceClip(image_files, fps=fps)\n",
    "\n",
    "clip.write_videofile(output_video, audio=False)"
   ]
  }
 ],
 "metadata": {
  "kernelspec": {
   "display_name": "Python 3",
   "language": "python",
   "name": "python3"
  },
  "language_info": {
   "codemirror_mode": {
    "name": "ipython",
    "version": 3
   },
   "file_extension": ".py",
   "mimetype": "text/x-python",
   "name": "python",
   "nbconvert_exporter": "python",
   "pygments_lexer": "ipython3",
   "version": "3.11.4"
  }
 },
 "nbformat": 4,
 "nbformat_minor": 2
}
