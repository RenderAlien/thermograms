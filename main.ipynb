{
 "cells": [
  {
   "cell_type": "code",
   "execution_count": 1,
   "metadata": {},
   "outputs": [],
   "source": [
    "#Импортирование библиотек\n",
    "from Timage import Timage\n",
    "import numpy as np\n",
    "import scipy.io as sc\n",
    "from scipy.signal import convolve2d\n",
    "from PIL import Image\n",
    "\n",
    "m = sc.loadmat('resources/sector_one.mat')\n",
    "\n",
    "#Берет n-ое изображение из sector_one.mat\n",
    "def get_timage(n):\n",
    "    global m\n",
    "    return Timage(array=np.array([[m['A'][j][i][n] for j in range(416)] for i in range(442)], dtype=np.float32))"
   ]
  },
  {
   "cell_type": "markdown",
   "metadata": {},
   "source": [
    "Возьмём 60-е изображение из sector_one.mat и укажем палитру вывода, в которой синий отображает 0, а красный отображает 255"
   ]
  },
  {
   "cell_type": "code",
   "execution_count": null,
   "metadata": {},
   "outputs": [],
   "source": [
    "thermogram = get_timage(60)\n",
    "\n",
    "pallete = [[0, 0, 255], [255, 0, 0]]\n",
    "\n",
    "thermogram.show(pallete, contrast_level=0.96)"
   ]
  },
  {
   "cell_type": "markdown",
   "metadata": {},
   "source": [
    "Обработка по фильтру Гаусса"
   ]
  },
  {
   "cell_type": "code",
   "execution_count": 60,
   "metadata": {},
   "outputs": [],
   "source": [
    "gausian_blurred = thermogram.gaussian_blur(blur=0.3, radius=9)\n",
    "\n",
    "gausian_blurred.show(pallete, contrast_level=0.96)"
   ]
  },
  {
   "cell_type": "markdown",
   "metadata": {},
   "source": [
    "Обработка по медианному фильтру"
   ]
  },
  {
   "cell_type": "code",
   "execution_count": 61,
   "metadata": {},
   "outputs": [],
   "source": [
    "median_blurred = thermogram.median_blur(radius=1)\n",
    "\n",
    "median_blurred.show(pallete, contrast_level=0.96)"
   ]
  },
  {
   "cell_type": "markdown",
   "metadata": {},
   "source": [
    "Шум \"соль и перец\" и шум по Гауссу "
   ]
  },
  {
   "cell_type": "code",
   "execution_count": 62,
   "metadata": {},
   "outputs": [],
   "source": [
    "snp_noised = thermogram.salt_and_pepper_noise(intensity=0.01)\n",
    "\n",
    "snp_noised.show(pallete, contrast_level=0.96)"
   ]
  },
  {
   "cell_type": "code",
   "execution_count": 63,
   "metadata": {},
   "outputs": [],
   "source": [
    "gaussian_noised = thermogram.gaussian_noise(mean=0, stddev=0.3)\n",
    "\n",
    "gaussian_noised.show(pallete, contrast_level=0.96)"
   ]
  },
  {
   "cell_type": "markdown",
   "metadata": {},
   "source": [
    "Применение медианного фильтра для устранения шумов"
   ]
  },
  {
   "cell_type": "code",
   "execution_count": 64,
   "metadata": {},
   "outputs": [],
   "source": [
    "snp_noised.median_blur(radius=1).show(pallete, contrast_level=0.96)"
   ]
  },
  {
   "cell_type": "code",
   "execution_count": 65,
   "metadata": {},
   "outputs": [],
   "source": [
    "gaussian_noised.median_blur(radius=1).show(pallete, contrast_level=0.96)"
   ]
  },
  {
   "cell_type": "code",
   "execution_count": 20,
   "metadata": {},
   "outputs": [],
   "source": [
    "get_timage(60).gaussian_noise(stddev=2).gaussian_blur(blur=2,radius=10).show(pallete=[[0, 0, 255], [255, 0, 0]], contrast_level=0.94)"
   ]
  },
  {
   "cell_type": "code",
   "execution_count": 23,
   "metadata": {},
   "outputs": [],
   "source": [
    "get_timage(60).salt_and_pepper_noise(0.01).median_blur().show(pallete=[[0,0,255],[255,0,0]], contrast_level=0.94)"
   ]
  },
  {
   "cell_type": "code",
   "execution_count": null,
   "metadata": {},
   "outputs": [
    {
     "name": "stderr",
     "output_type": "stream",
     "text": [
      "Convolving...: 100%|██████████| 436/436 [00:06<00:00, 71.38it/s]\n"
     ]
    }
   ],
   "source": [
    "t = get_timage(15)\n",
    "t.show()\n",
    "im = t.defect_map(radius=3, stddev=1.5, contrast_level=0.998, direction=np.array([-3**0.5/2, 1/2], dtype=np.float32))"
   ]
  }
 ],
 "metadata": {
  "kernelspec": {
   "display_name": "Python 3",
   "language": "python",
   "name": "python3"
  },
  "language_info": {
   "codemirror_mode": {
    "name": "ipython",
    "version": 3
   },
   "file_extension": ".py",
   "mimetype": "text/x-python",
   "name": "python",
   "nbconvert_exporter": "python",
   "pygments_lexer": "ipython3",
   "version": "3.11.4"
  }
 },
 "nbformat": 4,
 "nbformat_minor": 2
}
